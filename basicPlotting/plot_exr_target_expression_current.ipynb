version https://git-lfs.github.com/spec/v1
oid sha256:5e8a3c34b751229f59d24b26501ece5f3f68dcbd4ccaa3c5930dfac0407acf9c
size 245179
