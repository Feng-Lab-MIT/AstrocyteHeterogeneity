version https://git-lfs.github.com/spec/v1
oid sha256:77c7570b6da6a2c7614aad62a609f1380db1327fac778263e7c6018f06f0f219
size 2490360
