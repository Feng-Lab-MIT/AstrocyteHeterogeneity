version https://git-lfs.github.com/spec/v1
oid sha256:3227d6e62e650cd5df4f85e6f1de7eb45e79a561105bc1d041147318d3a71d03
size 340331800
