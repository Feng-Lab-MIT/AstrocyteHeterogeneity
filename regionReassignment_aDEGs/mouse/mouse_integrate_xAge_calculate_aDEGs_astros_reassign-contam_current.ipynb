version https://git-lfs.github.com/spec/v1
oid sha256:3b14d92aa0eaa57415a2163861bf6828c6b5ba9975bd6031413e8e2c5ffad7b9
size 44743583
