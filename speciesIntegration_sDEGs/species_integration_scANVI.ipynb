version https://git-lfs.github.com/spec/v1
oid sha256:51ccee8f95fc1e12746980244938d8cc7deb54f544d9f1b2c29767aaf0d8f40c
size 40839736
